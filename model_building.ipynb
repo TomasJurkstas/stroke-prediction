{
 "cells": [
  {
   "cell_type": "raw",
   "source": [
    "In this notebook the main focus is to replicate the model built in the previous (healthcare_project.ipynb) notebook."
   ],
   "metadata": {
    "collapsed": false
   }
  },
  {
   "cell_type": "code",
   "execution_count": 1,
   "outputs": [],
   "source": [
    "from sklearn.model_selection import train_test_split\n",
    "from sklearn.preprocessing import StandardScaler\n",
    "from imblearn.over_sampling import RandomOverSampler\n",
    "from sklearn.pipeline import Pipeline\n",
    "from sklearn.compose import ColumnTransformer\n",
    "from sklearn.linear_model import LogisticRegression\n",
    "from sklearn.metrics import classification_report, confusion_matrix\n",
    "import pickle\n",
    "import seaborn as sns\n",
    "import matplotlib.pyplot as plt\n",
    "import pandas as pd\n",
    "from functions import drop_rows, remove_outliers"
   ],
   "metadata": {
    "collapsed": false,
    "ExecuteTime": {
     "end_time": "2023-12-24T13:22:05.009952100Z",
     "start_time": "2023-12-24T13:22:03.336574200Z"
    }
   }
  },
  {
   "cell_type": "code",
   "execution_count": 2,
   "outputs": [],
   "source": [
    "data = pd.read_csv(\"healthcare-dataset-stroke-data.csv\")\n",
    "x = data.drop(\"stroke\", axis=1)\n",
    "y = data[\"stroke\"]"
   ],
   "metadata": {
    "collapsed": false,
    "ExecuteTime": {
     "end_time": "2023-12-24T13:22:05.069090100Z",
     "start_time": "2023-12-24T13:22:05.014988800Z"
    }
   }
  },
  {
   "cell_type": "code",
   "execution_count": 3,
   "outputs": [],
   "source": [
    "x_train, x_test, y_train, y_test = train_test_split(\n",
    "    x, y, test_size=0.2, random_state=1, stratify=y\n",
    ")"
   ],
   "metadata": {
    "collapsed": false,
    "ExecuteTime": {
     "end_time": "2023-12-24T13:22:05.076086600Z",
     "start_time": "2023-12-24T13:22:05.062059100Z"
    }
   }
  },
  {
   "cell_type": "code",
   "execution_count": 4,
   "outputs": [],
   "source": [
    "x_train, y_train = drop_rows(x_train, y_train, x_train[\"gender\"] == \"Other\")\n",
    "x_train, y_train, outliers = remove_outliers(x_train, y_train, \"bmi\")\n",
    "x_test, y_test = drop_rows(x_test, y_test, x_test[\"gender\"] == \"Other\")\n",
    "x_test = x_test[x_test[\"bmi\"] < outliers.min()]\n",
    "y_test = y_test.loc[x_test.index]\n",
    "ros = RandomOverSampler(random_state=1)\n",
    "x_train, y_train = ros.fit_resample(x_train, y_train)"
   ],
   "metadata": {
    "collapsed": false,
    "ExecuteTime": {
     "end_time": "2023-12-24T13:22:05.121094400Z",
     "start_time": "2023-12-24T13:22:05.082063Z"
    }
   }
  },
  {
   "cell_type": "markdown",
   "source": [
    "We do data cleaning steps first as we won't include them in a pipeline."
   ],
   "metadata": {
    "collapsed": false
   }
  },
  {
   "cell_type": "code",
   "execution_count": 5,
   "outputs": [],
   "source": [
    "preprocessor = ColumnTransformer(\n",
    "    transformers=[\n",
    "        (\"num\", StandardScaler(), [\"age\", \"avg_glucose_level\"]),\n",
    "        (\"columns_to_drop\", \"drop\", []),\n",
    "    ]\n",
    ")\n",
    "model = LogisticRegression(\n",
    "    C=0.01, fit_intercept=True, max_iter=100, penalty=\"l1\", solver=\"liblinear\"\n",
    ")\n",
    "pipeline = Pipeline(steps=[(\"preprocessor\", preprocessor), (\"model\", model)])"
   ],
   "metadata": {
    "collapsed": false,
    "ExecuteTime": {
     "end_time": "2023-12-24T13:22:05.122090300Z",
     "start_time": "2023-12-24T13:22:05.111059Z"
    }
   }
  },
  {
   "cell_type": "markdown",
   "source": [
    "We're using standard scaler to scale the only columns of interest, and dropping the rest. Also, we're using model hyperparameters we found during training stage. After that we're  combining both in an sklearn pipeline."
   ],
   "metadata": {
    "collapsed": false
   }
  },
  {
   "cell_type": "code",
   "execution_count": 6,
   "outputs": [
    {
     "name": "stdout",
     "output_type": "stream",
     "text": [
      "              precision    recall  f1-score   support\n",
      "\n",
      "           0       0.98      0.70      0.81       933\n",
      "           1       0.11      0.77      0.20        47\n",
      "\n",
      "    accuracy                           0.70       980\n",
      "   macro avg       0.55      0.73      0.51       980\n",
      "weighted avg       0.94      0.70      0.79       980\n",
      "\n"
     ]
    },
    {
     "data": {
      "text/plain": "<Figure size 640x480 with 2 Axes>",
      "image/png": "[encoded data removed]"
     },
     "metadata": {},
     "output_type": "display_data"
    }
   ],
   "source": [
    "pipeline.fit(x_train, y_train)\n",
    "preds = pipeline.predict(x_test)\n",
    "cm = confusion_matrix(y_test, preds)\n",
    "report = classification_report(y_test, preds)\n",
    "sns.heatmap(\n",
    "    cm,\n",
    "    annot=True,\n",
    "    fmt=\"d\",\n",
    "    cmap=\"Blues\",\n",
    "    xticklabels=[\"Predicted 0\", \"Predicted 1\"],\n",
    "    yticklabels=[\"Actual 0\", \"Actual 1\"],\n",
    ")\n",
    "plt.xlabel(\"Predicted\")\n",
    "plt.ylabel(\"Actual\")\n",
    "plt.title(\"Confusion Matrix\")\n",
    "print(report)"
   ],
   "metadata": {
    "collapsed": false,
    "ExecuteTime": {
     "end_time": "2023-12-24T13:22:05.532989900Z",
     "start_time": "2023-12-24T13:22:05.125062900Z"
    }
   }
  },
  {
   "cell_type": "markdown",
   "source": [
    "We end up getting very similar, but not exactly the same performance, possibly because we didn't split off a validation set. We'll use pickle to turn our model into a file, so that we can later load on to the app or a web service."
   ],
   "metadata": {
    "collapsed": false
   }
  },
  {
   "cell_type": "code",
   "execution_count": 7,
   "outputs": [],
   "source": [
    "with open(\"logisticregression.pkl\", \"wb\") as file:\n",
    "    pickle.dump(pipeline, file)"
   ],
   "metadata": {
    "collapsed": false,
    "ExecuteTime": {
     "end_time": "2023-12-24T13:22:05.599993Z",
     "start_time": "2023-12-24T13:22:05.536000900Z"
    }
   }
  },
  {
   "cell_type": "markdown",
   "source": [
    "# Conclusions\n",
    "We have performed extensive EDA, attempted to impute some missing values and trained a few models to predict stroke. To summarize:\n",
    "* We looked over each of the features, to look for outliers or any other elements that might cause problems in model training stage.\n",
    "    * Gender, BMI features had some data that we could consider outliers. We ended up dropping them.\n",
    "    * Work type, smoking status and BMI features had some data, that could be considered problematic.\n",
    "        * We used KNN to fill in missing values in BMI and attempted to train a few models to check whether we can accurately predict smoking status, however we could not.\n",
    "        * We ended up merging children category in work type feature with never worked category.\n",
    "* We looked at the distributions of our features.\n",
    "    * We saw that we had more women in our dataset.\n",
    "    * As for distribution of stroke according to age and gender, women of age 70-82 tend to have strokes more often than men, though men tend to have more strokes overall.\n",
    "    * Rate of stroke tends to increase drastically as people get older.\n",
    "    * People with hypertension or heart diseases tend to have strokes more often.\n",
    "    * People with abnormally high glucose levels tend to have strokes more often.\n",
    "    * There didn't seem to be any relationships between age, average glucose levels and bmi, Exception for a possible non-linear relationship between age and bmi.\n",
    "    * We saw that married people tend to have strokes more often, though that is due to the reason that with our data, married people tended to be older.\n",
    "    * We saw that self-employed people tend to have strokes more often, but it's most likely for the same reasons as with married people, they tended to be older.\n",
    "    * Same with people who formerly smoked.\n",
    "* We looked at feature importance in XGBoost model and Logistic regression model.\n",
    "    * Most important feature across all models seemed to be age.\n",
    "    * In XGBoost all other features seemed to hold very similar, low importance compared to age, with the exceptions of bmi and average glucose level.\n",
    "    * In Logistic regresssion there were few coefficients with values close to zero.\n",
    "        * These were generally residence type and gender features.\n",
    "        * Ever married, work type features had higher coefficients, when compared to XGBoost\n",
    "* We trained 4 types of models, XGBoost, LightGBM, SVC with different kernels and Logistic regression model.\n",
    "    * SVC models, specifically with rbf and polynomial kernel performed the worst out of these.\n",
    "    * XGBoost, LightGBM and Logistic regression models performed better with logistic regression performing best on validation set.\n",
    "        *  After removing features that didn't have a linear relationship with our target variable and were correlated with other features, the only relevant coefficients were age and average glucose level.\n",
    "        * After that Logistic regression models' performance increased, and we chose it as the best model with recall of 0.82 on validation set and 0.77 on testing set.\n",
    "* Overall I'd say that recall of this model is not high enough to be applied in medical setting, also the model is too simple to predict edge cases and with the features we currently have more complex models can't pick up on the patters in data, to have high enough recall."
   ],
   "metadata": {
    "collapsed": false
   }
  },
  {
   "cell_type": "code",
   "execution_count": 7,
   "outputs": [],
   "source": [],
   "metadata": {
    "collapsed": false,
    "ExecuteTime": {
     "end_time": "2023-12-24T13:22:05.601995200Z",
     "start_time": "2023-12-24T13:22:05.551023500Z"
    }
   }
  }
 ],
 "metadata": {
  "kernelspec": {
   "display_name": "Python 3",
   "language": "python",
   "name": "python3"
  },
  "language_info": {
   "codemirror_mode": {
    "name": "ipython",
    "version": 2
   },
   "file_extension": ".py",
   "mimetype": "text/x-python",
   "name": "python",
   "nbconvert_exporter": "python",
   "pygments_lexer": "ipython2",
   "version": "2.7.6"
  }
 },
 "nbformat": 4,
 "nbformat_minor": 0
}
